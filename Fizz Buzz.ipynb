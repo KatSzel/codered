{
 "cells": [
  {
   "cell_type": "code",
   "execution_count": 38,
   "id": "c6c67cc2",
   "metadata": {
    "scrolled": false
   },
   "outputs": [
    {
     "name": "stdout",
     "output_type": "stream",
     "text": [
      "5 Buzz\n",
      "10 Buzz\n",
      "15 Buzz\n",
      "20 Buzz\n",
      "25 Buzz\n",
      "30 Buzz\n",
      "35 Buzz\n",
      "40 Buzz\n",
      "45 Buzz\n",
      "50 Buzz\n",
      "55 Buzz\n",
      "60 Buzz\n",
      "65 Buzz\n",
      "70 Buzz\n",
      "75 Buzz\n",
      "80 Buzz\n",
      "85 Buzz\n",
      "90 Buzz\n",
      "95 Buzz\n",
      "3 Fizz\n",
      "6 Fizz\n",
      "9 Fizz\n",
      "12 Fizz\n",
      "15 Fizz\n",
      "18 Fizz\n",
      "21 Fizz\n",
      "24 Fizz\n",
      "27 Fizz\n",
      "30 Fizz\n",
      "33 Fizz\n",
      "36 Fizz\n",
      "39 Fizz\n",
      "42 Fizz\n",
      "45 Fizz\n",
      "48 Fizz\n",
      "51 Fizz\n",
      "54 Fizz\n",
      "57 Fizz\n",
      "60 Fizz\n",
      "63 Fizz\n",
      "66 Fizz\n",
      "69 Fizz\n",
      "72 Fizz\n",
      "75 Fizz\n",
      "78 Fizz\n",
      "81 Fizz\n",
      "84 Fizz\n",
      "87 Fizz\n",
      "90 Fizz\n",
      "93 Fizz\n",
      "96 Fizz\n",
      "99 Fizz\n",
      "15 FizzBuzz\n",
      "30 FizzBuzz\n",
      "45 FizzBuzz\n",
      "60 FizzBuzz\n",
      "75 FizzBuzz\n",
      "90 FizzBuzz\n"
     ]
    }
   ],
   "source": [
    "for i in range(1,100):\n",
    "    if i % 5 == 0:\n",
    "        print(i,\"Buzz\")\n",
    "for i in range(1,100):\n",
    "    if i % 3 == 0:\n",
    "        print(i, \"Fizz\") \n",
    "for i in range(1,100):\n",
    "    if i % 3 == 0 and i % 5 == 0:\n",
    "        print(i, \"FizzBuzz\")"
   ]
  },
  {
   "cell_type": "code",
   "execution_count": null,
   "id": "9e727cfb",
   "metadata": {},
   "outputs": [],
   "source": []
  }
 ],
 "metadata": {
  "kernelspec": {
   "display_name": "Python 3 (ipykernel)",
   "language": "python",
   "name": "python3"
  },
  "language_info": {
   "codemirror_mode": {
    "name": "ipython",
    "version": 3
   },
   "file_extension": ".py",
   "mimetype": "text/x-python",
   "name": "python",
   "nbconvert_exporter": "python",
   "pygments_lexer": "ipython3",
   "version": "3.11.5"
  }
 },
 "nbformat": 4,
 "nbformat_minor": 5
}
