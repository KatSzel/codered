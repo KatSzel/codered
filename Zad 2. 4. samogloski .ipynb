{
 "cells": [
  {
   "cell_type": "code",
   "execution_count": 1,
   "id": "55665c93",
   "metadata": {},
   "outputs": [
    {
     "name": "stdout",
     "output_type": "stream",
     "text": [
      "Write me a word I will count vowels: chuj i cipa\n",
      "The number of vowels is:  4\n"
     ]
    }
   ],
   "source": [
    "wpis = input(\"Write me a word I will count vowels: \")\n",
    "vowels = \"AaEeIiOoUu\"\n",
    "count = sum(wpis.count(vowel) for vowel in vowels)\n",
    "print(\"The number of vowels is: \", count)"
   ]
  },
  {
   "cell_type": "code",
   "execution_count": null,
   "id": "a0b9484f",
   "metadata": {},
   "outputs": [],
   "source": []
  }
 ],
 "metadata": {
  "kernelspec": {
   "display_name": "Python 3 (ipykernel)",
   "language": "python",
   "name": "python3"
  },
  "language_info": {
   "codemirror_mode": {
    "name": "ipython",
    "version": 3
   },
   "file_extension": ".py",
   "mimetype": "text/x-python",
   "name": "python",
   "nbconvert_exporter": "python",
   "pygments_lexer": "ipython3",
   "version": "3.11.5"
  }
 },
 "nbformat": 4,
 "nbformat_minor": 5
}
