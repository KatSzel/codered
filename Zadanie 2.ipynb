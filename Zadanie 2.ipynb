{
 "cells": [
  {
   "cell_type": "code",
   "execution_count": null,
   "id": "58cd5c41",
   "metadata": {
    "scrolled": true
   },
   "outputs": [],
   "source": [
    "username = input(\"insert name and surname: \");\n",
    "usernamecounter = 0;\n",
    "\n",
    "while usernamecounter:\n",
    "        if len(username) > 15 +  username.isalnum() != username:\n",
    "\n",
    "            print(\"Whoops! It looks like your email doesn’t meet following requirements: User name can’t include any numeric characters (digits) or User name exceeded 15 characters, insert new user name\")\n",
    "            username = input(\"insert name and surname: \");  \n",
    "        elif not username.isalnum() == username:\n",
    "            print (\"Whoops! It looks like your email doesn’t meet following requirements: User name can’t include any numeric characters (digits)\")\n",
    "            username = input(\"insert name and surname: \");\n",
    "            \n",
    "        elif len(username) > 15:\n",
    "            print(\"Whoops! It looks like your email doesn’t meet following requirements: User name can’t exceed 15 characters, insert new user name\")\n",
    "            username = input(\"insert name and surname: \");  \n",
    "          \n",
    "        else: \n",
    "            print(\"Your user name is\", username)           \n",
    "        break\n",
    "\n",
    "    \n",
    "\n",
    "email = input(\"insert email starting with your username includig underscore ('_'), ending with @ubs.com: \");\n",
    "e = email.strip()   \n",
    "while email:    \n",
    "    if not \"_\" in email:\n",
    "        print (\"Whoops! It looks like your email doesn’t meet following requirements: Email address must include underscore (`_`) character, insert new email\")\n",
    "        email = input(\"insert email starting with your username includig underscore ('_'), ending with @ubs.com: \");\n",
    "    elif not email.endswith(\"@ubs.com\"):\n",
    "        print(\"Whoops! It looks like your email doesn’t meet following requirements: Email address must end with `@ubs.com`, insert new email\")\n",
    "        email = input(\"insert email starting with your username includig underscore ('_'), ending with @ubs.com: \");\n",
    "    elif not email.lower() == email:\n",
    "        print (\"Whoops! It looks like your email doesn’t meet following requirements: All email letters must be in lower case, insert new email\")\n",
    "        email = input(\"insert email starting with your username includig underscore ('_'), ending with @ubs.com: \");\n",
    "    elif not email.startswith(username):\n",
    "        print (\"Whoops! It looks like your email doesn’t meet following requirements: Email address must start with user name \")\n",
    "        email = input(\"insert email starting with your username includig underscore ('_'), ending with @ubs.com: \");\n",
    "    else:\n",
    "        print (\"Your email is:\" + e)\n",
    "              \n",
    "    break       "
   ]
  }
 ],
 "metadata": {
  "kernelspec": {
   "display_name": "Python 3 (ipykernel)",
   "language": "python",
   "name": "python3"
  },
  "language_info": {
   "codemirror_mode": {
    "name": "ipython",
    "version": 3
   },
   "file_extension": ".py",
   "mimetype": "text/x-python",
   "name": "python",
   "nbconvert_exporter": "python",
   "pygments_lexer": "ipython3",
   "version": "3.11.5"
  }
 },
 "nbformat": 4,
 "nbformat_minor": 5
}
