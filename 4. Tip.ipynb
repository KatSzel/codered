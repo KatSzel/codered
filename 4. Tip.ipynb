{
 "cells": [
  {
   "cell_type": "code",
   "execution_count": 1,
   "id": "a11fb087-0f9e-45ed-8a40-e01fc54be717",
   "metadata": {},
   "outputs": [
    {
     "name": "stdout",
     "output_type": "stream",
     "text": [
      "Tip of the day is: \n",
      "Tip: Don't count your chicks before they hatch. Especially if they're chocolate!\n"
     ]
    }
   ],
   "source": [
    "import random\n",
    "def losuj_akapit(tips):\n",
    "    with open(tips, 'r') as file:\n",
    "        akapit = file.read().split('\\n\\n')\n",
    "        return random.choice(akapit)\n",
    "tips = 'C:\\\\Users\\\\kasie\\\\OneDrive\\\\Pulpit\\\\tips.txt'\n",
    "wylosowany_akapit = losuj_akapit(tips)\n",
    "print('Tip of the day is: ')\n",
    "print(wylosowany_akapit)"
   ]
  }
 ],
 "metadata": {
  "kernelspec": {
   "display_name": "Python 3 (ipykernel)",
   "language": "python",
   "name": "python3"
  },
  "language_info": {
   "codemirror_mode": {
    "name": "ipython",
    "version": 3
   },
   "file_extension": ".py",
   "mimetype": "text/x-python",
   "name": "python",
   "nbconvert_exporter": "python",
   "pygments_lexer": "ipython3",
   "version": "3.11.7"
  }
 },
 "nbformat": 4,
 "nbformat_minor": 5
}
