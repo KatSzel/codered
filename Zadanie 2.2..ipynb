{
 "cells": [
  {
   "cell_type": "code",
   "execution_count": null,
   "id": "6ef5b3f8",
   "metadata": {},
   "outputs": [],
   "source": [
    "#2. Build word counter\n",
    "#Write a word counter: as input program accepts a txt file, then reads the content from the file and as output prints the number of words in that txt file.You need to create this txt file first and fill it with some sentences."
   ]
  },
  {
   "cell_type": "code",
   "execution_count": 9,
   "id": "859bf4ad",
   "metadata": {},
   "outputs": [
    {
     "name": "stdout",
     "output_type": "stream",
     "text": [
      "The content of the file is:  Who is Batman . The amount of words is  3\n"
     ]
    }
   ],
   "source": [
    "with open(\"dummy_file.txt\", \"w\") as txtfile:\n",
    "    txtfile.write(\"Who is Batman\")\n",
    "\n",
    "with open(\"dummy_file.txt\", \"r\") as txtfile:\n",
    "    content = txtfile.read()\n",
    "    amount = len(content.split())\n",
    "print(\"The content of the file is: \", content, \". The amount of words is: \" , amount)"
   ]
  }
 ],
 "metadata": {
  "kernelspec": {
   "display_name": "Python 3 (ipykernel)",
   "language": "python",
   "name": "python3"
  },
  "language_info": {
   "codemirror_mode": {
    "name": "ipython",
    "version": 3
   },
   "file_extension": ".py",
   "mimetype": "text/x-python",
   "name": "python",
   "nbconvert_exporter": "python",
   "pygments_lexer": "ipython3",
   "version": "3.11.5"
  }
 },
 "nbformat": 4,
 "nbformat_minor": 5
}
