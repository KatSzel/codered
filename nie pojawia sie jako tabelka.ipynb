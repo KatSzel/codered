{
 "cells": [
  {
   "cell_type": "code",
   "execution_count": 1,
   "id": "4e1eefd9-f06c-4935-8b8e-fa357c1ee03e",
   "metadata": {},
   "outputs": [
    {
     "name": "stdout",
     "output_type": "stream",
     "text": [
      "Requirement already satisfied: tabulate in c:\\users\\kasie\\anaconda3\\lib\\site-packages (0.9.0)\n",
      "Note: you may need to restart the kernel to use updated packages.\n"
     ]
    }
   ],
   "source": [
    "pip install tabulate"
   ]
  },
  {
   "cell_type": "code",
   "execution_count": 5,
   "id": "5b3e1a49-5915-408a-9184-93d0049e5b03",
   "metadata": {},
   "outputs": [
    {
     "name": "stdout",
     "output_type": "stream",
     "text": [
      "<bound method Series.to_markdown of Rok\n",
      "1998    1930.00\n",
      "1999    2132.50\n",
      "2000    2281.25\n",
      "2001    2510.00\n",
      "2002    2403.50\n",
      "2003    2238.00\n",
      "2004    2388.75\n",
      "2005    2439.25\n",
      "2006    2545.25\n",
      "2007    2816.00\n",
      "2008    3316.25\n",
      "2009    3891.50\n",
      "2010    4360.25\n",
      "2011    3858.25\n",
      "2012    3996.25\n",
      "2013    4025.25\n",
      "2014    4033.50\n",
      "2015    3969.50\n",
      "2016    4054.00\n",
      "2017    4170.00\n",
      "2018    4237.50\n",
      "2019    4461.25\n",
      "2020    4891.50\n",
      "2021    5134.25\n",
      "2022    5318.75\n",
      "2023    6130.75\n",
      "Name: Wartosc, dtype: float64>\n"
     ]
    }
   ],
   "source": [
    "import pandas as pd\n",
    "df = pd.read_csv('C:\\\\Users\\\\kasie\\\\Downloads\\\\womenintechcoderedpythonchallenge3rdassignment\\\\mieszkania_windows.csv')\n",
    "dfy = df.groupby(df['Rok'])['Wartosc'].mean()\n",
    "print(dfy.to_markdown)"
   ]
  },
  {
   "cell_type": "code",
   "execution_count": null,
   "id": "c78d7a74-d29e-476f-b9ad-85a1726117cc",
   "metadata": {},
   "outputs": [],
   "source": []
  }
 ],
 "metadata": {
  "kernelspec": {
   "display_name": "Python 3 (ipykernel)",
   "language": "python",
   "name": "python3"
  },
  "language_info": {
   "codemirror_mode": {
    "name": "ipython",
    "version": 3
   },
   "file_extension": ".py",
   "mimetype": "text/x-python",
   "name": "python",
   "nbconvert_exporter": "python",
   "pygments_lexer": "ipython3",
   "version": "3.11.7"
  }
 },
 "nbformat": 4,
 "nbformat_minor": 5
}
