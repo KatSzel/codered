{
 "cells": [
  {
   "cell_type": "code",
   "execution_count": null,
   "id": "7007ffb1-b950-4464-86ec-7025f1edec23",
   "metadata": {},
   "outputs": [],
   "source": [
    "#1. LEVEL_1_basic Write program that finds max 3 salaries from the list."
   ]
  },
  {
   "cell_type": "code",
   "execution_count": 16,
   "id": "a6acd2bf-cb85-452b-8b12-a3ef71cbf7bf",
   "metadata": {},
   "outputs": [
    {
     "name": "stdout",
     "output_type": "stream",
     "text": [
      "All of the 3 maximum salaries are:  [18000, 16400, 15100]\n"
     ]
    }
   ],
   "source": [
    "salary = [10000,12000,7000,8500,11200,9300,15100,18000,16400,11000]\n",
    "max_value = max(salary)\n",
    "sorted_salary = sorted(salary, reverse=True)\n",
    "max_three = sorted_salary[:3]\n",
    "print(\"All of the 3 maximum salaries are: \", max_three)"
   ]
  },
  {
   "cell_type": "code",
   "execution_count": null,
   "id": "1c52f536-2def-4a3e-a78c-47ea02a8f5f6",
   "metadata": {},
   "outputs": [],
   "source": [
    "#2. LEVEL_1_basic Write program that finds salaries greater than mean salary from dictionary."
   ]
  },
  {
   "cell_type": "code",
   "execution_count": 1,
   "id": "8658371a-3428-4d7e-b4ce-4b7f24c24d1c",
   "metadata": {
    "scrolled": true
   },
   "outputs": [
    {
     "name": "stdout",
     "output_type": "stream",
     "text": [
      "Mean salary is:  11850.0 Salaries greater than mean salary: \n",
      "name:  Beata - salary:  12000\n",
      "name:  Piotr - salary:  15100\n",
      "name:  Mateusz - salary:  18000\n",
      "name:  Agata - salary:  16400\n"
     ]
    }
   ],
   "source": [
    "name_to_salary = {\n",
    "\n",
    "    'Adam': 10000,\n",
    "\n",
    "    'Beata': 12000,\n",
    "\n",
    "    'Jarek': 7000,\n",
    "\n",
    "    'Agnieszka': 8500,\n",
    "\n",
    "    'Marek': 11200,\n",
    "\n",
    "    'Ania': 9300,\n",
    "\n",
    "    'Piotr': 15100,\n",
    "\n",
    "    'Mateusz': 18000,\n",
    "\n",
    "    'Agata': 16400,\n",
    "\n",
    "    'Marian': 11000\n",
    "}\n",
    "\n",
    "mean_salary = sum(name_to_salary.values()) / len(name_to_salary)\n",
    "print (\"Mean salary is: \", mean_salary, \"Salaries greater than mean salary: \")\n",
    "greater_than_mean = [(key, value) for key, value in name_to_salary.items() if value > mean_salary]\n",
    "for key, value in greater_than_mean:\n",
    "   print (\"name: \", key, \"- salary: \", value)\n",
    "    "
   ]
  },
  {
   "cell_type": "code",
   "execution_count": null,
   "id": "7e4131e4-bf54-4064-b80d-3128a8cc7a86",
   "metadata": {},
   "outputs": [],
   "source": [
    "#3. LEVEL_1_basic Write program that filters employees from ‘Management’ department and counts them.b"
   ]
  },
  {
   "cell_type": "code",
   "execution_count": 56,
   "id": "459c0316-e291-4365-8b0f-fb55f67e4f8b",
   "metadata": {},
   "outputs": [
    {
     "name": "stdout",
     "output_type": "stream",
     "text": [
      "In department: Management working now  4 persons ['Adam', 'Beata', 'Piotr', 'Agata']\n"
     ]
    }
   ],
   "source": [
    "from typing import List, Dict, Any\n",
    "employee: List[Dict[str, Any]] = [\n",
    "\n",
    "{'Id': 1, 'Name': 'Adam', 'Department': 'Management', 'Salary': 10000},\n",
    "{'Id': 2, 'Name': 'Beata', 'Department': 'Management', 'Salary': 12000},\n",
    "{'Id': 3, 'Name': 'Jarek', 'Department': 'Kitchen', 'Salary': 7000},\n",
    "{'Id': 4, 'Name': 'Agnieszka', 'Department': 'House Floor', 'Salary': 8500},\n",
    "{'Id': 5, 'Name': 'Marek', 'Department': 'House Floor', 'Salary': 11200},\n",
    "{'Id': 6, 'Name': 'Ania', 'Department': 'Kitchen', 'Salary': 9300},\n",
    "{'Id': 7, 'Name': 'Piotr', 'Department': 'Management', 'Salary': 15100},\n",
    "{'Id': 8, 'Name': 'Mateusz', 'Department': 'Cashier', 'Salary': 18000},\n",
    "{'Id': 9, 'Name': 'Agata', 'Department': 'Management', 'Salary': 16400},\n",
    "{'Id': 10, 'Name': 'Marian', 'Department': 'Cashier', 'Salary': 11000},\n",
    "]\n",
    "\n",
    "mgmt_names = []\n",
    "mgmt_count = 0\n",
    "\n",
    "\n",
    "for entry in employee:\n",
    "    if entry[\"Department\"] == \"Management\":\n",
    "        mgmt_count += 1\n",
    "        mgmt_names.append(entry[\"Name\"])\n",
    "      \n",
    "print(\"In department: Management working now \", mgmt_count, \"persons\", mgmt_names)"
   ]
  }
 ],
 "metadata": {
  "kernelspec": {
   "display_name": "Python 3 (ipykernel)",
   "language": "python",
   "name": "python3"
  },
  "language_info": {
   "codemirror_mode": {
    "name": "ipython",
    "version": 3
   },
   "file_extension": ".py",
   "mimetype": "text/x-python",
   "name": "python",
   "nbconvert_exporter": "python",
   "pygments_lexer": "ipython3",
   "version": "3.11.7"
  }
 },
 "nbformat": 4,
 "nbformat_minor": 5
}
