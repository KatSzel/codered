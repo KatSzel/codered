{
 "cells": [
  {
   "cell_type": "code",
   "execution_count": null,
   "id": "00ba6413-ada7-4494-8664-c2c55418060b",
   "metadata": {},
   "outputs": [],
   "source": [
    "#4. LEVEL_2_medium Write program that maps employee id to first letter of name, technically means returns a dictionary, where:-key - an employee's id, -  value - first letter of name"
   ]
  },
  {
   "cell_type": "code",
   "execution_count": 6,
   "id": "e7a82acc-3760-472b-ad94-137a00b5902b",
   "metadata": {},
   "outputs": [
    {
     "name": "stdout",
     "output_type": "stream",
     "text": [
      "(1, A), (2, B), (3, J), (4, A), (5, M), (6, A), (7, P), (8, M), (9, A), (10, M)\n"
     ]
    }
   ],
   "source": [
    "from typing import List, Dict, Any\n",
    "employee: List[Dict[str, Any]] = [\n",
    "\n",
    "{'Id': 1, 'Name': 'Adam', 'Department': 'Management', 'Salary': 10000},\n",
    "{'Id': 2, 'Name': 'Beata', 'Department': 'Management', 'Salary': 12000},\n",
    "{'Id': 3, 'Name': 'Jarek', 'Department': 'Kitchen', 'Salary': 7000},\n",
    "{'Id': 4, 'Name': 'Agnieszka', 'Department': 'House Floor', 'Salary': 8500},\n",
    "{'Id': 5, 'Name': 'Marek', 'Department': 'House Floor', 'Salary': 11200},\n",
    "{'Id': 6, 'Name': 'Ania', 'Department': 'Kitchen', 'Salary': 9300},\n",
    "{'Id': 7, 'Name': 'Piotr', 'Department': 'Management', 'Salary': 15100},\n",
    "{'Id': 8, 'Name': 'Mateusz', 'Department': 'Cashier', 'Salary': 18000},\n",
    "{'Id': 9, 'Name': 'Agata', 'Department': 'Management', 'Salary': 16400},\n",
    "{'Id': 10, 'Name': 'Marian', 'Department': 'Cashier', 'Salary': 11000},\n",
    "]\n",
    "id_initials = [(entry[\"Id\"], entry[\"Name\"][0]) for entry in employee]\n",
    "\n",
    "print(\", \".join([f\"({id}, {name})\" for id, name in id_initials]))"
   ]
  },
  {
   "cell_type": "code",
   "execution_count": null,
   "id": "fce290fe-953f-4b1b-9890-57ae22272db5",
   "metadata": {},
   "outputs": [],
   "source": [
    "#5. LEVEL_2_medium Write program that reads csv file and calculates compensation as: (employment_duration_in_years * 1000 zł) only when employment_duration_in_years is greater or equal 5."
   ]
  },
  {
   "cell_type": "code",
   "execution_count": 31,
   "id": "6079eb7e-a358-4f0f-8c20-ce5b83e5edbc",
   "metadata": {},
   "outputs": [
    {
     "name": "stdout",
     "output_type": "stream",
     "text": [
      " Name: Beata - Bonus: 5000\n",
      " Name: Jarek - Bonus: 5000\n",
      " Name: Ania - Bonus: 6000\n",
      " Name: Mateusz - Bonus: 6000\n",
      " Name: Marian - Bonus: 10000\n"
     ]
    }
   ],
   "source": [
    "import pandas as pd\n",
    "def compensation_calc (row): \n",
    "    if row ['Duration of employment in years'] >= 5:\n",
    "        return row ['Duration of employment in years'] * 1000\n",
    "\n",
    "    else:\n",
    "        return ['Salary']\n",
    "df = pd.read_csv('C:\\\\Users\\\\kasie\\\\OneDrive\\\\Pulpit\\\\5_input.csv')\n",
    "df['Bonus'] = df.apply(compensation_calc, axis = 1)\n",
    "\n",
    "\n",
    "filtered_df = df[df['Duration of employment in years'] >= 5]\n",
    "\n",
    "\n",
    "\n",
    "for index, row in filtered_df.iterrows():\n",
    "\n",
    "    print(f\" Name: {row['Name']} - Bonus: {row['Bonus']}\")"
   ]
  }
 ],
 "metadata": {
  "kernelspec": {
   "display_name": "Python 3 (ipykernel)",
   "language": "python",
   "name": "python3"
  },
  "language_info": {
   "codemirror_mode": {
    "name": "ipython",
    "version": 3
   },
   "file_extension": ".py",
   "mimetype": "text/x-python",
   "name": "python",
   "nbconvert_exporter": "python",
   "pygments_lexer": "ipython3",
   "version": "3.11.7"
  }
 },
 "nbformat": 4,
 "nbformat_minor": 5
}
