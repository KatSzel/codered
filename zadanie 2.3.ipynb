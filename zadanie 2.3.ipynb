{
 "cells": [
  {
   "cell_type": "code",
   "execution_count": 15,
   "id": "5294f94d",
   "metadata": {},
   "outputs": [
    {
     "name": "stdout",
     "output_type": "stream",
     "text": [
      "Write me a word and I will check duplicates: cyc\n",
      "True\n"
     ]
    }
   ],
   "source": [
    "sentence = input(\"Write me a word and I will check duplicates: \")\n",
    "\n",
    "def duplicate_letters(sentence):\n",
    "   \n",
    "    words = sentence.split()\n",
    "    for word in words:\n",
    "        if len(word) != len(set(word)):\n",
    "            return True\n",
    "    \n",
    "    return False\n",
    "\n",
    "result = duplicate_letters(sentence)\n",
    "print(result)"
   ]
  }
 ],
 "metadata": {
  "kernelspec": {
   "display_name": "Python 3 (ipykernel)",
   "language": "python",
   "name": "python3"
  },
  "language_info": {
   "codemirror_mode": {
    "name": "ipython",
    "version": 3
   },
   "file_extension": ".py",
   "mimetype": "text/x-python",
   "name": "python",
   "nbconvert_exporter": "python",
   "pygments_lexer": "ipython3",
   "version": "3.11.5"
  }
 },
 "nbformat": 4,
 "nbformat_minor": 5
}
