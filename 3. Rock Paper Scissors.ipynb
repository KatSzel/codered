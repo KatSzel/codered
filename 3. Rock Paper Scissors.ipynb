{
 "cells": [
  {
   "cell_type": "code",
   "execution_count": 17,
   "id": "ce01b7e3-d314-4ff6-b67f-d4d850cd69aa",
   "metadata": {},
   "outputs": [
    {
     "ename": "IndentationError",
     "evalue": "unindent does not match any outer indentation level (<tokenize>, line 61)",
     "output_type": "error",
     "traceback": [
      "\u001b[1;36m  File \u001b[1;32m<tokenize>:61\u001b[1;36m\u001b[0m\n\u001b[1;33m    if wins == 3:\u001b[0m\n\u001b[1;37m    ^\u001b[0m\n\u001b[1;31mIndentationError\u001b[0m\u001b[1;31m:\u001b[0m unindent does not match any outer indentation level\n"
     ]
    }
   ],
   "source": [
    "import random, sys\n",
    "print ('Rock, Paper, Scissors')\n",
    "\n",
    "wins = 0\n",
    "losses = 0\n",
    "ties = 0\n",
    "\n",
    "while True: \n",
    "    print ('%s wins, %s losses, %s ties' % (wins, losses, ties))\n",
    "    while True: \n",
    "        print( 'Choose: rock, paper, scissors')\n",
    "        PlayerMove = input()\n",
    "        if PlayerMove == 'rock' or PlayerMove == 'paper' or PlayerMove == 'scissors':\n",
    "            break \n",
    "        print ('Choose your weapon: rock, paper, scissors')\n",
    "#player\n",
    "    if PlayerMove == 'rock':\n",
    "        print('rock versus...')\n",
    "    elif PlayerMove == 'paper':\n",
    "        print ('paper versus...')\n",
    "    elif PlayerMove == 'scissors':\n",
    "        print ('scissors versus...')\n",
    "#komputer\n",
    "    random_number = random.randint(1,3)\n",
    "    if random_number == 1:\n",
    "        ComputerMove = 'rock'\n",
    "        print ('rock')\n",
    "    elif random_number == 2:\n",
    "        ComputerMove = 'paper'\n",
    "        print ('paper')\n",
    "    elif random_number == 3:\n",
    "        ComputerMove = 'scissors'\n",
    "        print ('scissors')\n",
    "#warianty gry\n",
    "    if PlayerMove == ComputerMove:\n",
    "        print('TIE!')\n",
    "        ties = ties + 1 #do kazdego nowego remisu dodaje kolejna wartosc\n",
    "    elif PlayerMove == 'rock' and ComputerMove == 'paper':\n",
    "        print ('Player lost, Computer win')\n",
    "        losses = losses + 1\n",
    "    elif PlayerMove == 'scissors' and ComputerMove == 'rock':\n",
    "        print ('Player lost, Computer win')\n",
    "        losses = losses + 1\n",
    "    elif PlayerMove == 'paper' and ComputerMove == 'scissors':\n",
    "        print ('Player lost, Computer win')\n",
    "        losses = losses + 1\n",
    "    elif PlayerMove == 'paper' and ComputerMove == 'rock':\n",
    "        print ('Player win, Computer lost')\n",
    "        losses = wins + 1\n",
    "    elif PlayerMove == 'rock' and ComputerMove == 'scissors':\n",
    "        print ('Player win, Computer lost')\n",
    "        losses = wins + 1\n",
    "    elif PlayerMove == 'scissors' and ComputerMove == 'paper':\n",
    "        print ('Player win, Computer lost')\n",
    "        losses = wins + 1\n",
    "#gra ma sie konczyc na 3 wins or losses\n",
    "     if wins == 3:\n",
    "         print('You won! Congrats')\n",
    "         sys.exit()\n",
    "     elif losses == 3: \n",
    "         print('You lost! Sorry')\n",
    "         sys.exit()\n"
   ]
  },
  {
   "cell_type": "code",
   "execution_count": null,
   "id": "d307412f-cf15-49ba-a7b9-463730fd51c3",
   "metadata": {},
   "outputs": [],
   "source": []
  }
 ],
 "metadata": {
  "kernelspec": {
   "display_name": "Python 3 (ipykernel)",
   "language": "python",
   "name": "python3"
  },
  "language_info": {
   "codemirror_mode": {
    "name": "ipython",
    "version": 3
   },
   "file_extension": ".py",
   "mimetype": "text/x-python",
   "name": "python",
   "nbconvert_exporter": "python",
   "pygments_lexer": "ipython3",
   "version": "3.11.7"
  }
 },
 "nbformat": 4,
 "nbformat_minor": 5
}
