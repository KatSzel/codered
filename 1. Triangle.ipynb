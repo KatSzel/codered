{
 "cells": [
  {
   "cell_type": "code",
   "execution_count": null,
   "id": "07792119-0e6d-447f-81da-f949d69b0a52",
   "metadata": {},
   "outputs": [],
   "source": [
    "def Triangle(a, b, c):\n",
    "    if a**2 + b**2 == c**2 or a**2 + c**2 == b**2 or b**2 + c**2 == a**2:\n",
    "        return True\n",
    "    else:\n",
    "    \n",
    "        return False\n",
    "\n",
    "a = float(input('Insert a lenght of the triangle'))\n",
    "b = float(input('Insert b lenght of the triangle'))\n",
    "c = float(input('Insert c lenght of the triangle'))\n",
    "\n",
    "if Triangle(a, b, c):\n",
    "    print('Can form a triangle')\n",
    "else:\n",
    "    print('Cannot form a triangle')"
   ]
  },
  {
   "cell_type": "code",
   "execution_count": null,
   "id": "23d3c87f-22e2-476d-ba10-1230801e8a52",
   "metadata": {},
   "outputs": [],
   "source": []
  }
 ],
 "metadata": {
  "kernelspec": {
   "display_name": "Python 3 (ipykernel)",
   "language": "python",
   "name": "python3"
  },
  "language_info": {
   "codemirror_mode": {
    "name": "ipython",
    "version": 3
   },
   "file_extension": ".py",
   "mimetype": "text/x-python",
   "name": "python",
   "nbconvert_exporter": "python",
   "pygments_lexer": "ipython3",
   "version": "3.11.7"
  }
 },
 "nbformat": 4,
 "nbformat_minor": 5
}
