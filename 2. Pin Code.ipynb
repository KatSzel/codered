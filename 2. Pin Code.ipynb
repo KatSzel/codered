{
 "cells": [
  {
   "cell_type": "code",
   "execution_count": 1,
   "id": "1230679f-3b53-4732-a540-fd8686f012c8",
   "metadata": {},
   "outputs": [
    {
     "name": "stdin",
     "output_type": "stream",
     "text": [
      "Wprowadź kod PIN:  1234\n",
      "Wprowadź kod PIN ponownie:  1234\n"
     ]
    },
    {
     "name": "stdout",
     "output_type": "stream",
     "text": [
      "Kod PIN poprawny\n"
     ]
    }
   ],
   "source": [
    "def check_pin(pin1, pin2):\n",
    "    if pin1 != pin2:\n",
    "        return False\n",
    "    if len(pin2) != 4 and len(pin2) != 6: \n",
    "        return False\n",
    "    if not pin2.isdigit():\n",
    "        return False\n",
    "    if len(set(pin2)) != len(pin2):\n",
    "        return False\n",
    "    return True\n",
    "\n",
    "pin1 = input('Wprowadź kod PIN: ')\n",
    "\n",
    "while True:  # Pętla while sprawdzająca poprawność wprowadzonego kodu PIN\n",
    "    pin2 = input('Wprowadź kod PIN ponownie: ')\n",
    "    if check_pin(pin1, pin2):\n",
    "        print('Kod PIN poprawny')\n",
    "        break  # Wyjście z pętli while po poprawnym wprowadzeniu kodu PIN\n",
    "    else:\n",
    "        print('Kod PIN niepoprawny. Spróbuj ponownie.')"
   ]
  },
  {
   "cell_type": "code",
   "execution_count": null,
   "id": "37b626cb-d98e-4ec0-a07c-4467e4e7d3fe",
   "metadata": {},
   "outputs": [],
   "source": []
  }
 ],
 "metadata": {
  "kernelspec": {
   "display_name": "Python 3 (ipykernel)",
   "language": "python",
   "name": "python3"
  },
  "language_info": {
   "codemirror_mode": {
    "name": "ipython",
    "version": 3
   },
   "file_extension": ".py",
   "mimetype": "text/x-python",
   "name": "python",
   "nbconvert_exporter": "python",
   "pygments_lexer": "ipython3",
   "version": "3.11.7"
  }
 },
 "nbformat": 4,
 "nbformat_minor": 5
}
